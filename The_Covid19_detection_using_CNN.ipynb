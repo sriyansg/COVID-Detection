{
  "nbformat": 4,
  "nbformat_minor": 0,
  "metadata": {
    "colab": {
      "provenance": []
    },
    "kernelspec": {
      "name": "python3",
      "display_name": "Python 3"
    },
    "language_info": {
      "name": "python"
    },
    "accelerator": "GPU",
    "gpuClass": "standard"
  },
  "cells": [
    {
      "cell_type": "code",
      "source": [
        "from google.colab import drive\n",
        "drive.mount('/content/drive')"
      ],
      "metadata": {
        "colab": {
          "base_uri": "https://localhost:8080/"
        },
        "id": "4MUiFhhd8B3z",
        "outputId": "1ec763a4-0072-4f50-f4a6-1e6b747b68f1"
      },
      "execution_count": null,
      "outputs": [
        {
          "output_type": "stream",
          "name": "stdout",
          "text": [
            "Mounted at /content/drive\n"
          ]
        }
      ]
    },
    {
      "cell_type": "code",
      "source": [
        "train = 'drive/MyDrive/Data/train'\n",
        "test = 'drive/MyDrive/Data/test'\n",
        "valid = 'drive/MyDrive/Data/valid'"
      ],
      "metadata": {
        "id": "mP4GTe938WgQ"
      },
      "execution_count": null,
      "outputs": []
    },
    {
      "cell_type": "code",
      "execution_count": null,
      "metadata": {
        "id": "1HVpuOxZiEHD"
      },
      "outputs": [],
      "source": [
        "import tensorflow as tf\n",
        "from keras import layers\n",
        "\n",
        "from keras import models\n",
        "from keras import optimizers\n",
        "from keras.callbacks import EarlyStopping\n",
        "from keras.callbacks import ReduceLROnPlateau\n",
        "from keras.callbacks import ModelCheckpoint"
      ]
    },
    {
      "cell_type": "code",
      "source": [
        "!pip install pyyaml h5py"
      ],
      "metadata": {
        "colab": {
          "base_uri": "https://localhost:8080/"
        },
        "id": "AbYd-aAuLTyg",
        "outputId": "4134fe4c-30e2-4e9b-c3ec-3a6de598c7f9"
      },
      "execution_count": null,
      "outputs": [
        {
          "output_type": "stream",
          "name": "stdout",
          "text": [
            "Looking in indexes: https://pypi.org/simple, https://us-python.pkg.dev/colab-wheels/public/simple/\n",
            "Requirement already satisfied: pyyaml in /usr/local/lib/python3.9/dist-packages (6.0)\n",
            "Requirement already satisfied: h5py in /usr/local/lib/python3.9/dist-packages (3.8.0)\n",
            "Requirement already satisfied: numpy>=1.14.5 in /usr/local/lib/python3.9/dist-packages (from h5py) (1.22.4)\n"
          ]
        }
      ]
    },
    {
      "cell_type": "code",
      "source": [
        "model = models.Sequential()"
      ],
      "metadata": {
        "id": "bXDcWTILkBLG"
      },
      "execution_count": null,
      "outputs": []
    },
    {
      "cell_type": "code",
      "source": [
        "model.add(layers.Conv2D(16,(3,3),activation = 'relu',input_shape = (150,150,3)))\n",
        "model.add(layers.MaxPooling2D((2,2)))\n",
        "model.add(layers.Conv2D(64,(3,3),activation = 'relu',input_shape = (150,150,3)))\n",
        "model.add(layers.MaxPooling2D((2,2)))\n",
        "model.add(layers.Flatten())\n"
      ],
      "metadata": {
        "colab": {
          "base_uri": "https://localhost:8080/"
        },
        "id": "n3MmfDJChByy",
        "outputId": "74790f1f-1c00-4c3e-af1b-4d230d085765"
      },
      "execution_count": null,
      "outputs": [
        {
          "output_type": "stream",
          "name": "stdout",
          "text": [
            "Model: \"sequential\"\n",
            "_________________________________________________________________\n",
            " Layer (type)                Output Shape              Param #   \n",
            "=================================================================\n",
            " conv2d (Conv2D)             (None, 148, 148, 16)      448       \n",
            "                                                                 \n",
            " max_pooling2d (MaxPooling2D  (None, 74, 74, 16)       0         \n",
            " )                                                               \n",
            "                                                                 \n",
            " conv2d_1 (Conv2D)           (None, 72, 72, 64)        9280      \n",
            "                                                                 \n",
            " max_pooling2d_1 (MaxPooling  (None, 36, 36, 64)       0         \n",
            " 2D)                                                             \n",
            "                                                                 \n",
            " flatten (Flatten)           (None, 82944)             0         \n",
            "                                                                 \n",
            " dense (Dense)               (None, 32)                2654240   \n",
            "                                                                 \n",
            " dense_1 (Dense)             (None, 1)                 33        \n",
            "                                                                 \n",
            "=================================================================\n",
            "Total params: 2,664,001\n",
            "Trainable params: 2,664,001\n",
            "Non-trainable params: 0\n",
            "_________________________________________________________________\n"
          ]
        }
      ]
    },
    {
      "cell_type": "code",
      "source": [
        "model.compile(loss = 'binary_crossentropy',\n",
        "              optimizer = optimizers.RMSprop(lr = 1e-4),\n",
        "              metrics=['accuracy'])"
      ],
      "metadata": {
        "colab": {
          "base_uri": "https://localhost:8080/"
        },
        "id": "vE3Tp8zZxeSi",
        "outputId": "3776adba-3ed9-44bb-b499-d16ec00f7f07"
      },
      "execution_count": null,
      "outputs": [
        {
          "output_type": "stream",
          "name": "stderr",
          "text": [
            "/usr/local/lib/python3.9/dist-packages/keras/optimizers/legacy/rmsprop.py:143: UserWarning: The `lr` argument is deprecated, use `learning_rate` instead.\n",
            "  super().__init__(name, **kwargs)\n"
          ]
        }
      ]
    },
    {
      "cell_type": "code",
      "source": [
        "model_path = \"training_1/cp.ckpt\"\n",
        "checkpoint = ModelCheckpoint(filepath=model_path,\n",
        "                            save_weights_only=True,\n",
        "                            monitor='val_accuracy',\n",
        "                            save_best_only=True, verbose=1)\n",
        "\n",
        "earlystop = EarlyStopping(monitor = 'val_loss',\n",
        "                          min_delta = 0,\n",
        "                          patience = 6,\n",
        "                          verbose = 1,\n",
        "                          restore_best_weights = True)\n",
        "\n",
        "learning_rate_reduction =ReduceLROnPlateau(monitor='val_loss',\n",
        "                                            patience=6,\n",
        "                                            verbose=1,\n",
        "                                            factor=0.2,\n",
        "                                            min_lr=0.00000001)"
      ],
      "metadata": {
        "id": "fpqz80DGry9_"
      },
      "execution_count": null,
      "outputs": []
    },
    {
      "cell_type": "code",
      "source": [
        "from keras.preprocessing.image import ImageDataGenerator\n",
        "\n",
        "train_datagen = ImageDataGenerator(rescale = 1./255.)\n",
        "test_datagen = ImageDataGenerator(rescale = 1./255.)\n",
        "\n",
        "train_generator = train_datagen.flow_from_directory(train, target_size=(150,150),\n",
        "                                                    batch_size=20,\n",
        "                                                    class_mode='binary')\n",
        "\n",
        "valid_generator = train_datagen.flow_from_directory(valid, target_size=(150,150),\n",
        "                                                    batch_size=20,\n",
        "                                                    class_mode='binary')"
      ],
      "metadata": {
        "colab": {
          "base_uri": "https://localhost:8080/"
        },
        "id": "iQjb9BSpxeeF",
        "outputId": "51dc5486-2919-4a39-e1a1-4397ca350fde"
      },
      "execution_count": null,
      "outputs": [
        {
          "output_type": "stream",
          "name": "stdout",
          "text": [
            "Found 1622 images belonging to 2 classes.\n",
            "Found 216 images belonging to 2 classes.\n"
          ]
        }
      ]
    },
    {
      "cell_type": "code",
      "source": [
        "def augment(img):\n",
        "  #take a random b/w 0-1 if it is  > 0.25\n",
        "  # rotate image by (-25,25) degree\n",
        "  # add gausion noice blur\n",
        "  # shift the image by -15, 15 in x and y direction\n",
        "  # return img\n",
        "  pass"
      ],
      "metadata": {
        "id": "YV_XlwSFhmf-"
      },
      "execution_count": null,
      "outputs": []
    },
    {
      "cell_type": "code",
      "source": [
        "# for 30% of random img in train_gen data aug it and append it with label and original image\n",
        "# check size, it should be x + 0.3 x"
      ],
      "metadata": {
        "id": "4XJNX_XXiKtp"
      },
      "execution_count": null,
      "outputs": []
    },
    {
      "cell_type": "code",
      "source": [
        "history = model.fit(train_generator,epochs=10,validation_data = valid_generator, callbacks=[earlystop, checkpoint, learning_rate_reduction])"
      ],
      "metadata": {
        "colab": {
          "base_uri": "https://localhost:8080/"
        },
        "id": "ePtRlmjz9Xha",
        "outputId": "8ecb9795-7e6f-453d-b585-4186cad748f6"
      },
      "execution_count": null,
      "outputs": [
        {
          "output_type": "stream",
          "name": "stdout",
          "text": [
            "Epoch 1/10\n",
            "82/82 [==============================] - ETA: 0s - loss: 0.2666 - accuracy: 0.8970\n",
            "Epoch 1: val_accuracy improved from -inf to 0.91204, saving model to training_1/cp.ckpt\n",
            "82/82 [==============================] - 344s 4s/step - loss: 0.2666 - accuracy: 0.8970 - val_loss: 0.1770 - val_accuracy: 0.9120 - lr: 1.0000e-04\n",
            "Epoch 2/10\n",
            "82/82 [==============================] - ETA: 0s - loss: 0.1282 - accuracy: 0.9599\n",
            "Epoch 2: val_accuracy improved from 0.91204 to 0.95370, saving model to training_1/cp.ckpt\n",
            "82/82 [==============================] - 79s 964ms/step - loss: 0.1282 - accuracy: 0.9599 - val_loss: 0.1242 - val_accuracy: 0.9537 - lr: 1.0000e-04\n",
            "Epoch 3/10\n",
            "82/82 [==============================] - ETA: 0s - loss: 0.0928 - accuracy: 0.9686\n",
            "Epoch 3: val_accuracy improved from 0.95370 to 0.96296, saving model to training_1/cp.ckpt\n",
            "82/82 [==============================] - 79s 963ms/step - loss: 0.0928 - accuracy: 0.9686 - val_loss: 0.1212 - val_accuracy: 0.9630 - lr: 1.0000e-04\n",
            "Epoch 4/10\n",
            "82/82 [==============================] - ETA: 0s - loss: 0.0646 - accuracy: 0.9797\n",
            "Epoch 4: val_accuracy improved from 0.96296 to 0.97685, saving model to training_1/cp.ckpt\n",
            "82/82 [==============================] - 80s 981ms/step - loss: 0.0646 - accuracy: 0.9797 - val_loss: 0.0513 - val_accuracy: 0.9769 - lr: 1.0000e-04\n",
            "Epoch 5/10\n",
            "82/82 [==============================] - ETA: 0s - loss: 0.0490 - accuracy: 0.9864\n",
            "Epoch 5: val_accuracy did not improve from 0.97685\n",
            "82/82 [==============================] - 80s 978ms/step - loss: 0.0490 - accuracy: 0.9864 - val_loss: 0.0884 - val_accuracy: 0.9722 - lr: 1.0000e-04\n",
            "Epoch 6/10\n",
            "82/82 [==============================] - ETA: 0s - loss: 0.0453 - accuracy: 0.9852\n",
            "Epoch 6: val_accuracy improved from 0.97685 to 0.98148, saving model to training_1/cp.ckpt\n",
            "82/82 [==============================] - 89s 1s/step - loss: 0.0453 - accuracy: 0.9852 - val_loss: 0.0383 - val_accuracy: 0.9815 - lr: 1.0000e-04\n",
            "Epoch 7/10\n",
            "82/82 [==============================] - ETA: 0s - loss: 0.0357 - accuracy: 0.9883\n",
            "Epoch 7: val_accuracy did not improve from 0.98148\n",
            "82/82 [==============================] - 80s 973ms/step - loss: 0.0357 - accuracy: 0.9883 - val_loss: 0.0338 - val_accuracy: 0.9815 - lr: 1.0000e-04\n",
            "Epoch 8/10\n",
            "82/82 [==============================] - ETA: 0s - loss: 0.0303 - accuracy: 0.9883\n",
            "Epoch 8: val_accuracy did not improve from 0.98148\n",
            "82/82 [==============================] - 80s 977ms/step - loss: 0.0303 - accuracy: 0.9883 - val_loss: 0.0650 - val_accuracy: 0.9769 - lr: 1.0000e-04\n",
            "Epoch 9/10\n",
            "82/82 [==============================] - ETA: 0s - loss: 0.0277 - accuracy: 0.9920\n",
            "Epoch 9: val_accuracy improved from 0.98148 to 1.00000, saving model to training_1/cp.ckpt\n",
            "82/82 [==============================] - 79s 962ms/step - loss: 0.0277 - accuracy: 0.9920 - val_loss: 0.0174 - val_accuracy: 1.0000 - lr: 1.0000e-04\n",
            "Epoch 10/10\n",
            "81/82 [============================>.] - ETA: 0s - loss: 0.0290 - accuracy: 0.9914\n",
            "Epoch 10: val_accuracy did not improve from 1.00000\n",
            "82/82 [==============================] - 78s 953ms/step - loss: 0.0290 - accuracy: 0.9914 - val_loss: 0.0244 - val_accuracy: 0.9907 - lr: 1.0000e-04\n"
          ]
        }
      ]
    },
    {
      "cell_type": "code",
      "source": [
        "score = model.evaluate(valid_generator, batch_size=32)\n",
        "print(score)\n",
        "\n",
        "validation_loss, validation_Accuracy = score\n",
        "print('Validation Loss',validation_loss)\n",
        "print('Validation Accuracy',validation_Accuracy)\n"
      ],
      "metadata": {
        "colab": {
          "base_uri": "https://localhost:8080/"
        },
        "id": "GHvp-uZsSuL1",
        "outputId": "8e0a3adc-d9fb-411f-da43-1d4d1be23f17"
      },
      "execution_count": null,
      "outputs": [
        {
          "output_type": "stream",
          "name": "stdout",
          "text": [
            "11/11 [==============================] - 11s 1s/step - loss: 0.0244 - accuracy: 0.9907\n",
            "[0.024351712316274643, 0.9907407164573669]\n",
            "Validation Loss 0.024351712316274643\n",
            "Validation Accuracy 0.9907407164573669\n"
          ]
        }
      ]
    },
    {
      "cell_type": "code",
      "source": [
        "test_generator = test_datagen.flow_from_directory(test, target_size=(150,150),\n",
        "                                                    batch_size=20,\n",
        "                                                    class_mode='binary')"
      ],
      "metadata": {
        "colab": {
          "base_uri": "https://localhost:8080/"
        },
        "id": "ASRtvHFXYLaJ",
        "outputId": "81f35e71-92f9-47ea-cb7b-0c825effcc2b"
      },
      "execution_count": null,
      "outputs": [
        {
          "output_type": "stream",
          "name": "stdout",
          "text": [
            "Found 386 images belonging to 2 classes.\n"
          ]
        }
      ]
    },
    {
      "cell_type": "code",
      "source": [
        "score = model.evaluate(test_generator, batch_size=32)\n",
        "print(score)\n",
        "\n",
        "testing_loss, testing_Accuracy = score\n",
        "print('Testing Loss:',testing_loss)\n",
        "print('Testing Accuracy:',testing_Accuracy)"
      ],
      "metadata": {
        "colab": {
          "base_uri": "https://localhost:8080/"
        },
        "id": "qSOxMsZAYdPI",
        "outputId": "65598a6c-5116-417f-e528-4312853235d9"
      },
      "execution_count": null,
      "outputs": [
        {
          "output_type": "stream",
          "name": "stdout",
          "text": [
            "20/20 [==============================] - 71s 4s/step - loss: 0.0202 - accuracy: 0.9948\n",
            "[0.020220395177602768, 0.9948186278343201]\n",
            "Testing Loss: 0.020220395177602768\n",
            "Testing Accuracy: 0.9948186278343201\n"
          ]
        }
      ]
    },
    {
      "cell_type": "code",
      "source": [
        "import matplotlib.pyplot as plt\n",
        "plt.plot(history.history['accuracy'])\n",
        "plt.plot(history.history['val_accuracy'])\n",
        "plt.title('model accuracy')\n",
        "plt.ylabel('accuracy')\n",
        "plt.xlabel('epoch')\n",
        "plt.legend(['train', 'val'], loc='upper right')\n",
        "plt.show()"
      ],
      "metadata": {
        "colab": {
          "base_uri": "https://localhost:8080/",
          "height": 472
        },
        "id": "8d8ArrlJbLDD",
        "outputId": "cdaa9b27-f653-4f66-850c-7aac13855f2a"
      },
      "execution_count": null,
      "outputs": [
        {
          "output_type": "display_data",
          "data": {
            "text/plain": [
              "<Figure size 640x480 with 1 Axes>"
            ],
            "image/png": "[encoded data removed]"
          },
          "metadata": {}
        }
      ]
    },
    {
      "cell_type": "code",
      "source": [
        "plt.plot(history.history['loss'])\n",
        "plt.plot(history.history['val_loss'])\n",
        "plt.title('model loss')\n",
        "plt.ylabel('loss')\n",
        "plt.xlabel('epoch')\n",
        "plt.legend(['train', 'val'], loc='upper right')\n",
        "plt.show()"
      ],
      "metadata": {
        "colab": {
          "base_uri": "https://localhost:8080/",
          "height": 472
        },
        "id": "HhEFoAl6cUra",
        "outputId": "acc85e22-e407-44f7-9b76-01bb05feaf56"
      },
      "execution_count": null,
      "outputs": [
        {
          "output_type": "display_data",
          "data": {
            "text/plain": [
              "<Figure size 640x480 with 1 Axes>"
            ],
            "image/png": "[encoded data removed]"
          },
          "metadata": {}
        }
      ]
    },
    {
      "cell_type": "code",
      "source": [
        "!mkdir -p saved_model\n",
        "model.save('saved_model/my_model')"
      ],
      "metadata": {
        "colab": {
          "base_uri": "https://localhost:8080/"
        },
        "id": "6J58DLF5qh9W",
        "outputId": "8388a0e9-6181-4db6-ef29-b1eccf114c80"
      },
      "execution_count": null,
      "outputs": [
        {
          "output_type": "stream",
          "name": "stderr",
          "text": [
            "WARNING:absl:Found untraced functions such as _jit_compiled_convolution_op, _jit_compiled_convolution_op while saving (showing 2 of 2). These functions will not be directly callable after loading.\n"
          ]
        }
      ]
    },
    {
      "cell_type": "code",
      "source": [
        "# my_model directory\n",
        "!ls saved_model\n",
        "\n",
        "# Contains an assets folder, saved_model.pb, and variables folder.\n",
        "!ls saved_model/my_model\n"
      ],
      "metadata": {
        "colab": {
          "base_uri": "https://localhost:8080/"
        },
        "id": "2q9uplijrD-Z",
        "outputId": "eb4cb146-1626-4c22-b453-f01fb6d8bd3d"
      },
      "execution_count": null,
      "outputs": [
        {
          "output_type": "stream",
          "name": "stdout",
          "text": [
            "my_model\n",
            "assets\tfingerprint.pb\tkeras_metadata.pb  saved_model.pb  variables\n"
          ]
        }
      ]
    }
  ]
}